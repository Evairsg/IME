{
 "cells": [
  {
   "cell_type": "code",
   "execution_count": 1,
   "metadata": {},
   "outputs": [],
   "source": [
    "import pandas as pd\n",
    "import geopandas as gpd\n",
    "from shapely.wkt import loads\n",
    "from shapely.ops import cascaded_union\n",
    "from tqdm import tqdm\n",
    "tqdm.pandas()\n",
    "%matplotlib inline"
   ]
  },
  {
   "cell_type": "markdown",
   "metadata": {},
   "source": [
    "## Criando os dataframe com as linhas e os setores censitarios"
   ]
  },
  {
   "cell_type": "code",
   "execution_count": 2,
   "metadata": {},
   "outputs": [
    {
     "name": "stderr",
     "output_type": "stream",
     "text": [
      "100%|██████████| 2234/2234 [00:00<00:00, 2849.29it/s]\n",
      "100%|██████████| 18363/18363 [00:00<00:00, 18780.95it/s]\n"
     ]
    }
   ],
   "source": [
    "#Dataframe com os 'desenhos' das linhas de transporte\n",
    "df_linhas = pd.read_csv('./dados/linhas_transporte.csv')\n",
    "geo_linhas = gpd.GeoDataFrame(df_linhas,geometry=df_linhas.linhas.progress_apply(lambda x: loads(x)))\n",
    "geo_linhas.crs = '+proj=longlat +ellps=WGS84 +datum=WGS84 +no_defs'\n",
    "\n",
    "#Dataframe com os 'desenhos' dos setores censitarios de São Paulo\n",
    "df_setores_sc = pd.read_csv('./dados/sp_setores_censitarios.csv')\n",
    "\n",
    "#Dataframe com a informação de Dom PP por setor censitario de São Paulo\n",
    "df_renda_dompp = pd.read_csv('./resultados/renda_dompp_sc.csv')\n",
    "\n",
    "#Merge das geoemtrias de setores censitarios com a informação de DOMPP\n",
    "df_setores_sc = pd.merge(left=df_setores_sc,right=df_renda_dompp,left_on='CODSETOR',right_on='Cod_setor',how='inner')\n",
    "geo_setores_sc = gpd.GeoDataFrame(df_setores_sc,geometry=df_setores_sc.WKT.progress_apply(lambda x: loads(x)))\n",
    "geo_setores_sc.crs = '+proj=longlat +ellps=WGS84 +datum=WGS84 +no_defs'\n"
   ]
  },
  {
   "cell_type": "markdown",
   "metadata": {},
   "source": [
    "## Aplicando o buffer de 400 metros"
   ]
  },
  {
   "cell_type": "code",
   "execution_count": 3,
   "metadata": {},
   "outputs": [],
   "source": [
    "#Alterando o datum para UTM\n",
    "geo_linhas.to_crs('+proj=merc +lon_0=100 +lat_ts=-41 +x_0=0 +y_0=0 +datum=WGS84 +units=m +no_defs',inplace=True)\n",
    "#Aplicando o buffer de 400 metros\n",
    "geo_linhas['geometry'] = geo_linhas.buffer(400)\n",
    "#Alterando o datum para LAT LNG\n",
    "geo_linhas.to_crs('+proj=longlat +ellps=WGS84 +datum=WGS84 +no_defs',inplace=True)"
   ]
  },
  {
   "cell_type": "markdown",
   "metadata": {},
   "source": [
    "## Gerando dataframe com as intersecções das linhas com os setores censitarios"
   ]
  },
  {
   "cell_type": "code",
   "execution_count": 4,
   "metadata": {},
   "outputs": [
    {
     "name": "stderr",
     "output_type": "stream",
     "text": [
      "100%|██████████| 743769/743769 [00:35<00:00, 20839.49it/s]\n"
     ]
    }
   ],
   "source": [
    "#Associando os setores censitarios que intersectam as linhas\n",
    "geo_merge = gpd.sjoin(left_df=geo_linhas,right_df=geo_setores_sc,how='inner',op='intersects')\n",
    "geo_merge['WKT'] = geo_merge.WKT.progress_apply(lambda x: loads(x))"
   ]
  },
  {
   "cell_type": "markdown",
   "metadata": {},
   "source": [
    "## Coletando intersecções das linhas com os setores"
   ]
  },
  {
   "cell_type": "code",
   "execution_count": 5,
   "metadata": {
    "scrolled": true
   },
   "outputs": [
    {
     "name": "stderr",
     "output_type": "stream",
     "text": [
      "100%|██████████| 743769/743769 [05:28<00:00, 2264.18it/s]\n"
     ]
    }
   ],
   "source": [
    "#Colentado as intersecções dos setores censitarios com a geometria de 400 metros da linha\n",
    "geo_merge['geom_intersec'] = geo_merge.progress_apply(lambda x: x.geometry.intersection(x.WKT),axis = 1)"
   ]
  },
  {
   "cell_type": "markdown",
   "metadata": {},
   "source": [
    "## Verificando porcentagem da area de intersecção"
   ]
  },
  {
   "cell_type": "code",
   "execution_count": 6,
   "metadata": {},
   "outputs": [
    {
     "name": "stderr",
     "output_type": "stream",
     "text": [
      "100%|██████████| 743769/743769 [00:39<00:00, 18871.38it/s]\n"
     ]
    }
   ],
   "source": [
    "geo_merge['area_intersec'] = geo_merge.progress_apply(lambda x: (x.geom_intersec.area) / x.WKT.area ,axis = 1)"
   ]
  },
  {
   "cell_type": "markdown",
   "metadata": {},
   "source": [
    "## Associando a renda por domicilio particular permanente de acordo com a aréa que a linha intersecta no setor censitario"
   ]
  },
  {
   "cell_type": "code",
   "execution_count": 8,
   "metadata": {},
   "outputs": [],
   "source": [
    "geo_merge['prop_renda_dompp'] = round(geo_merge.RENDA_POR_DOMPP * geo_merge.area_intersec,2)"
   ]
  },
  {
   "cell_type": "markdown",
   "metadata": {},
   "source": [
    "### Dataframe com as estatisticas descritivas da renda dompp pela proporção da aréa do setor censitario em relação a linha "
   ]
  },
  {
   "cell_type": "code",
   "execution_count": 9,
   "metadata": {},
   "outputs": [],
   "source": [
    "df_desc_linhas = geo_merge.groupby('trip_id')['prop_renda_dompp'].describe().reset_index()\n",
    "df_desc_linhas['range'] = df_desc_linhas['max'] - df_desc_linhas['min']\n",
    "df_desc_linhas = pd.merge(left=geo_linhas,right=df_desc_linhas,on='trip_id',how='inner')"
   ]
  },
  {
   "cell_type": "code",
   "execution_count": 10,
   "metadata": {},
   "outputs": [],
   "source": [
    "df_desc_linhas.to_csv('./resultados/linhas_dom_pp_prop_desc.csv',index=False)"
   ]
  },
  {
   "cell_type": "code",
   "execution_count": 11,
   "metadata": {},
   "outputs": [
    {
     "data": {
      "text/plain": [
       "distancia                                                  23323.6\n",
       "id                                                           64450\n",
       "linhas           LINESTRING (-46.64427 -23.534924, -46.644417 -...\n",
       "route_id                                                   609F-10\n",
       "service_id                                                     USD\n",
       "trip_id                                                  609F-10-1\n",
       "trip_headsign                                        Chác. Santana\n",
       "direction_id                                                  True\n",
       "geometry         POLYGON ((-46.7578756742122 -23.66424738833469...\n",
       "count                                                          702\n",
       "mean                                                       5197.46\n",
       "std                                                         6987.6\n",
       "min                                                              0\n",
       "25%                                                        1577.35\n",
       "50%                                                        2999.36\n",
       "75%                                                        7106.86\n",
       "max                                                         103319\n",
       "range                                                       103319\n",
       "Name: 1276, dtype: object"
      ]
     },
     "execution_count": 11,
     "metadata": {},
     "output_type": "execute_result"
    }
   ],
   "source": [
    "df_desc_linhas.loc[df_desc_linhas.range.idxmax()]"
   ]
  },
  {
   "cell_type": "code",
   "execution_count": 12,
   "metadata": {},
   "outputs": [],
   "source": [
    "geo_merge.loc[geo_merge.trip_id == '609F-10-1'].to_csv('./resultados/linha_com_maior_dompp_prop.csv',index=False)"
   ]
  },
  {
   "cell_type": "code",
   "execution_count": 13,
   "metadata": {},
   "outputs": [
    {
     "data": {
      "text/plain": [
       "distancia                                                  3339.43\n",
       "id                                                           68659\n",
       "linhas           LINESTRING (-46.773773 -23.69017, -46.773677 -...\n",
       "route_id                                                   6008-41\n",
       "service_id                                                     U__\n",
       "trip_id                                                  6008-41-0\n",
       "trip_headsign                                       Jd. Copacabana\n",
       "direction_id                                                 False\n",
       "geometry         POLYGON ((-46.76340278590528 -23.6888369094671...\n",
       "count                                                           60\n",
       "mean                                                       1072.43\n",
       "std                                                        543.051\n",
       "min                                                           0.79\n",
       "25%                                                        705.808\n",
       "50%                                                        1213.79\n",
       "75%                                                        1487.96\n",
       "max                                                        1948.87\n",
       "range                                                      1948.08\n",
       "Name: 1122, dtype: object"
      ]
     },
     "execution_count": 13,
     "metadata": {},
     "output_type": "execute_result"
    }
   ],
   "source": [
    "df_desc_linhas.loc[df_desc_linhas.range.idxmin()]"
   ]
  },
  {
   "cell_type": "code",
   "execution_count": 14,
   "metadata": {},
   "outputs": [],
   "source": [
    "geo_merge.loc[geo_merge.trip_id == '6008-41-0'].to_csv('./resultados/linha_com_menor_dompp_prop.csv',index=False)"
   ]
  },
  {
   "cell_type": "code",
   "execution_count": 15,
   "metadata": {},
   "outputs": [
    {
     "data": {
      "text/plain": [
       "<matplotlib.axes._subplots.AxesSubplot at 0x7f981ac14128>"
      ]
     },
     "execution_count": 15,
     "metadata": {},
     "output_type": "execute_result"
    },
    {
     "data": {
      "image/png": "[encoded data removed]",
      "text/plain": [
       "<matplotlib.figure.Figure at 0x7f981ac108d0>"
      ]
     },
     "metadata": {},
     "output_type": "display_data"
    }
   ],
   "source": [
    "df_desc_linhas.range.hist(bins=100,figsize=(20,8))"
   ]
  },
  {
   "cell_type": "code",
   "execution_count": 16,
   "metadata": {},
   "outputs": [
    {
     "data": {
      "text/plain": [
       "<matplotlib.axes._subplots.AxesSubplot at 0x7f982f528dd8>"
      ]
     },
     "execution_count": 16,
     "metadata": {},
     "output_type": "execute_result"
    },
    {
     "data": {
      "image/png": "[encoded data removed]",
      "text/plain": [
       "<matplotlib.figure.Figure at 0x7f98302199e8>"
      ]
     },
     "metadata": {},
     "output_type": "display_data"
    }
   ],
   "source": [
    "df_desc_linhas[['range']].boxplot(figsize=(20,8))"
   ]
  },
  {
   "cell_type": "code",
   "execution_count": 17,
   "metadata": {},
   "outputs": [
    {
     "data": {
      "text/plain": [
       "count      2234.000000\n",
       "mean      15501.102484\n",
       "std       13577.165521\n",
       "min        1948.080000\n",
       "25%        5738.065000\n",
       "50%       11947.800000\n",
       "75%       20283.210000\n",
       "max      103318.750000\n",
       "Name: range, dtype: float64"
      ]
     },
     "execution_count": 17,
     "metadata": {},
     "output_type": "execute_result"
    }
   ],
   "source": [
    "df_desc_linhas.range.describe()"
   ]
  }
 ],
 "metadata": {
  "kernelspec": {
   "display_name": "Python 3",
   "language": "python",
   "name": "python3"
  },
  "language_info": {
   "codemirror_mode": {
    "name": "ipython",
    "version": 3
   },
   "file_extension": ".py",
   "mimetype": "text/x-python",
   "name": "python",
   "nbconvert_exporter": "python",
   "pygments_lexer": "ipython3",
   "version": "3.6.6"
  }
 },
 "nbformat": 4,
 "nbformat_minor": 2
}
