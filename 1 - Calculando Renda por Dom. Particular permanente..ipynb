{
 "cells": [
  {
   "cell_type": "code",
   "execution_count": 1,
   "metadata": {},
   "outputs": [],
   "source": [
    "import pandas as pd"
   ]
  },
  {
   "cell_type": "code",
   "execution_count": 2,
   "metadata": {},
   "outputs": [],
   "source": [
    "df_domicilios = pd.read_csv('./dados/Domicilio01_SP1.csv',sep=';')\n",
    "df_renda_domicilios = pd.read_csv('./dados/DomicilioRenda_SP1.csv',sep=';')"
   ]
  },
  {
   "cell_type": "code",
   "execution_count": 3,
   "metadata": {},
   "outputs": [],
   "source": [
    "df_domicilios = df_domicilios[['Cod_setor','V002']]\n",
    "df_renda_domicilios['V003'] = df_renda_domicilios['V003'].str.replace('X','0').astype(int)\n",
    "df_renda_domicilios = df_renda_domicilios[['Cod_setor','V003']]\n",
    "df_renda_por_dompp = pd.merge(left=df_domicilios,right=df_renda_domicilios,on='Cod_setor',how='inner')"
   ]
  },
  {
   "cell_type": "code",
   "execution_count": 4,
   "metadata": {},
   "outputs": [],
   "source": [
    "df_renda_por_dompp['RENDA_POR_DOMPP'] = df_renda_por_dompp['V003'] / df_renda_por_dompp['V002']"
   ]
  },
  {
   "cell_type": "code",
   "execution_count": 5,
   "metadata": {},
   "outputs": [],
   "source": [
    "df_renda_por_dompp.rename(columns={'V002':'DOMPP','V003':'RENDA_DOMPP'},inplace=True)"
   ]
  },
  {
   "cell_type": "code",
   "execution_count": 6,
   "metadata": {},
   "outputs": [
    {
     "data": {
      "text/plain": [
       "(18363, 4)"
      ]
     },
     "execution_count": 6,
     "metadata": {},
     "output_type": "execute_result"
    }
   ],
   "source": [
    "df_renda_por_dompp.shape"
   ]
  },
  {
   "cell_type": "code",
   "execution_count": 7,
   "metadata": {},
   "outputs": [
    {
     "data": {
      "text/plain": [
       "Index(['Cod_setor', 'DOMPP', 'RENDA_DOMPP', 'RENDA_POR_DOMPP'], dtype='object')"
      ]
     },
     "execution_count": 7,
     "metadata": {},
     "output_type": "execute_result"
    }
   ],
   "source": [
    "df_renda_por_dompp.columns"
   ]
  },
  {
   "cell_type": "code",
   "execution_count": 8,
   "metadata": {},
   "outputs": [],
   "source": [
    "df_renda_por_dompp.to_csv('./resultados/renda_dompp_sc.csv',index=False)"
   ]
  }
 ],
 "metadata": {
  "kernelspec": {
   "display_name": "Python 3",
   "language": "python",
   "name": "python3"
  },
  "language_info": {
   "codemirror_mode": {
    "name": "ipython",
    "version": 3
   },
   "file_extension": ".py",
   "mimetype": "text/x-python",
   "name": "python",
   "nbconvert_exporter": "python",
   "pygments_lexer": "ipython3",
   "version": "3.6.6"
  }
 },
 "nbformat": 4,
 "nbformat_minor": 2
}
