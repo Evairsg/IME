{
 "cells": [
  {
   "cell_type": "code",
   "execution_count": 1,
   "metadata": {},
   "outputs": [],
   "source": [
    "import pandas as pd"
   ]
  },
  {
   "cell_type": "code",
   "execution_count": null,
   "metadata": {},
   "outputs": [],
   "source": [
    "df_domicilios = pd.read_csv('./dados/Domicilio01_SP1.csv',sep=';')\n",
    "df_renda_domicilios = pd.read_csv('./dados/DomicilioRenda_SP1.csv',sep=';')\n",
    "#df_setores = pd.read_csv('./dados/sp_setores_censitarios2.csv')\n",
    "#df_linhas_setor = pd.read_csv('linhas_setores_e_deus_no_comando.csv')"
   ]
  },
  {
   "cell_type": "code",
   "execution_count": null,
   "metadata": {},
   "outputs": [],
   "source": [
    "df_domicilios[['Cod_setor','V002']]\n",
    "df_renda_domicilios[['Cod_setor','V003']]['V003'].str.replace('X',0)"
   ]
  },
  {
   "cell_type": "code",
   "execution_count": null,
   "metadata": {},
   "outputs": [],
   "source": [
    "xesq = pd.merge(left=df_renda_domicilios.loc[df_renda_domicilios.V003 == 'X'],right=df_setores,left_on='Cod_setor',right_on='CODSETOR')"
   ]
  },
  {
   "cell_type": "code",
   "execution_count": null,
   "metadata": {},
   "outputs": [],
   "source": [
    "df_linhas_setor"
   ]
  },
  {
   "cell_type": "code",
   "execution_count": null,
   "metadata": {},
   "outputs": [],
   "source": [
    "pd.merge(left=xesq,right=df_linhas_setor,how='left',left_on='Cod_setor',right_on='CODSETOR')['Cod_setor'].nunique()"
   ]
  }
 ],
 "metadata": {
  "kernelspec": {
   "display_name": "Python 3",
   "language": "python",
   "name": "python3"
  },
  "language_info": {
   "codemirror_mode": {
    "name": "ipython",
    "version": 3
   },
   "file_extension": ".py",
   "mimetype": "text/x-python",
   "name": "python",
   "nbconvert_exporter": "python",
   "pygments_lexer": "ipython3",
   "version": "3.6.6"
  }
 },
 "nbformat": 4,
 "nbformat_minor": 2
}
