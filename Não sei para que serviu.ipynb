{
 "cells": [
  {
   "cell_type": "code",
   "execution_count": 1,
   "metadata": {},
   "outputs": [],
   "source": [
    "import pandas as pd\n",
    "import geopandas as gpd\n",
    "from shapely.wkt import loads\n",
    "from shapely.ops import cascaded_union\n",
    "from tqdm import tqdm\n",
    "tqdm.pandas()\n",
    "%matplotlib inline"
   ]
  },
  {
   "cell_type": "markdown",
   "metadata": {},
   "source": [
    "## Criando os dataframe com as linhas e os setores censitarios"
   ]
  },
  {
   "cell_type": "code",
   "execution_count": 2,
   "metadata": {},
   "outputs": [],
   "source": [
    "#lendo arquivo com as informações da linha de transporte\n",
    "df_linhas = pd.read_csv('./dados/kepler-gl_shapes_2.csv.csv')\n",
    "geo_linhas = gpd.GeoDataFrame(df_linhas,geometry=df_linhas.linhas.apply(lambda x: loads(x)))\n",
    "geo_linhas.crs = '+proj=longlat +ellps=WGS84 +datum=WGS84 +no_defs'\n",
    "\n",
    "#lendo arquivo com as indormações de setores censitarios e realizando merge com os dados de dompp\n",
    "df_setores_sc = pd.read_csv('./dados/sp_setores_censitarios2.csv')\n",
    "df_renda_dompp = pd.read_csv('./dados/renda_dompp_sc.csv')\n",
    "df_setores_sc = pd.merge(left=df_setores_sc,right=df_renda_dompp,left_on='CODSETOR',right_on='Cod_setor',how='inner')\n",
    "geo_setores_sc = gpd.GeoDataFrame(df_setores_sc,geometry=df_setores_sc.WKT.apply(lambda x: loads(x)))\n",
    "geo_setores_sc.crs = '+proj=longlat +ellps=WGS84 +datum=WGS84 +no_defs'"
   ]
  },
  {
   "cell_type": "markdown",
   "metadata": {},
   "source": [
    "## Aplicando o buffer de 400 metros"
   ]
  },
  {
   "cell_type": "code",
   "execution_count": 3,
   "metadata": {},
   "outputs": [],
   "source": [
    "geo_linhas.to_crs('+proj=merc +lon_0=100 +lat_ts=-41 +x_0=0 +y_0=0 +datum=WGS84 +units=m +no_defs',inplace=True)\n",
    "geo_linhas['geometry'] = geo_linhas.buffer(400)\n",
    "geo_linhas.to_crs('+proj=longlat +ellps=WGS84 +datum=WGS84 +no_defs',inplace=True)"
   ]
  },
  {
   "cell_type": "markdown",
   "metadata": {},
   "source": [
    "### Associando os setores censitarios que intersecta as linhas."
   ]
  },
  {
   "cell_type": "code",
   "execution_count": 4,
   "metadata": {},
   "outputs": [],
   "source": [
    "geo_merge = gpd.sjoin(left_df=geo_linhas,right_df=geo_setores_sc,how='inner',op='intersects')"
   ]
  },
  {
   "cell_type": "code",
   "execution_count": 19,
   "metadata": {},
   "outputs": [
    {
     "data": {
      "text/plain": [
       "(743769, 20)"
      ]
     },
     "execution_count": 19,
     "metadata": {},
     "output_type": "execute_result"
    }
   ],
   "source": [
    "geo_merge.shape"
   ]
  },
  {
   "cell_type": "code",
   "execution_count": 28,
   "metadata": {
    "scrolled": true
   },
   "outputs": [
    {
     "data": {
      "text/plain": [
       "Index(['distancia', 'id', 'linhas', 'route_id', 'service_id', 'trip_id',\n",
       "       'trip_headsign', 'direction_id', 'geometry', 'index_right', 'WKT', 'ID',\n",
       "       'AREA', 'CODSETOR', 'CODMUNI', 'CODDIST', 'Cod_setor', 'DOMPP',\n",
       "       'RENDA_DOMPP', 'RENDA_PER_DOMPP'],\n",
       "      dtype='object')"
      ]
     },
     "execution_count": 28,
     "metadata": {},
     "output_type": "execute_result"
    }
   ],
   "source": [
    "geo_merge.columns"
   ]
  },
  {
   "cell_type": "code",
   "execution_count": 5,
   "metadata": {},
   "outputs": [],
   "source": [
    "geo_merge['WKT'] = geo_merge.WKT.apply(lambda x: loads(x))"
   ]
  },
  {
   "cell_type": "markdown",
   "metadata": {},
   "source": [
    "### Calculando a % da aréa dos setores que intersectam o buffer de 400 metros da linha"
   ]
  },
  {
   "cell_type": "code",
   "execution_count": 22,
   "metadata": {},
   "outputs": [
    {
     "name": "stderr",
     "output_type": "stream",
     "text": [
      "100%|██████████| 743769/743769 [07:21<00:00, 1683.26it/s]\n"
     ]
    }
   ],
   "source": [
    "geo_merge['per_area'] = geo_merge.progress_apply(lambda x: (x.geometry.intersection(x.WKT).area) / x.WKT.area ,axis = 1)"
   ]
  },
  {
   "cell_type": "markdown",
   "metadata": {},
   "source": [
    "### Calculando a variavel de dompp de acordo com a % do setor censitario e agrupando por rota"
   ]
  },
  {
   "cell_type": "code",
   "execution_count": 23,
   "metadata": {},
   "outputs": [],
   "source": [
    "geo_merge['prop_renda_dom_pp'] = geo_merge.RENDA_PER_DOMPP * geo_merge.per_area"
   ]
  },
  {
   "cell_type": "code",
   "execution_count": 24,
   "metadata": {},
   "outputs": [],
   "source": [
    "geo_linhas['sum_renda_dompp'] = geo_merge[['id','RENDA_PER_DOMPP']].groupby('id',as_index=False).sum()['RENDA_PER_DOMPP'].round(2)\n",
    "geo_linhas['prop_sum_renda_dompp'] = geo_merge[['id','prop_renda_dom_pp']].groupby('id',as_index=False).sum()['prop_renda_dom_pp'].round(2)\n",
    "geo_linhas['renda_dompp_km'] = round(geo_linhas['sum_renda_dompp'] / geo_linhas['distancia'],2)\n",
    "geo_linhas['prop_renda_dompp_km'] = round(geo_linhas['prop_sum_renda_dompp'] / geo_linhas['distancia'],2)"
   ]
  },
  {
   "cell_type": "code",
   "execution_count": 25,
   "metadata": {},
   "outputs": [],
   "source": [
    "geo_linhas.to_csv('./dados/linhas_com_dompp.csv',index=False)"
   ]
  },
  {
   "cell_type": "code",
   "execution_count": 26,
   "metadata": {},
   "outputs": [
    {
     "data": {
      "text/plain": [
       "<matplotlib.axes._subplots.AxesSubplot at 0x7efee27d8160>"
      ]
     },
     "execution_count": 26,
     "metadata": {},
     "output_type": "execute_result"
    },
    {
     "data": {
      "image/png": "[encoded data removed]",
      "text/plain": [
       "<matplotlib.figure.Figure at 0x7efec6e6e630>"
      ]
     },
     "metadata": {},
     "output_type": "display_data"
    }
   ],
   "source": [
    "geo_linhas.renda_dompp_km.hist(bins=100,figsize=(20,8))"
   ]
  },
  {
   "cell_type": "code",
   "execution_count": 27,
   "metadata": {},
   "outputs": [
    {
     "data": {
      "text/plain": [
       "<matplotlib.axes._subplots.AxesSubplot at 0x7efebf20e8d0>"
      ]
     },
     "execution_count": 27,
     "metadata": {},
     "output_type": "execute_result"
    },
    {
     "data": {
      "image/png": "[encoded data removed]",
      "text/plain": [
       "<matplotlib.figure.Figure at 0x7efec5d0e1d0>"
      ]
     },
     "metadata": {},
     "output_type": "display_data"
    }
   ],
   "source": [
    "geo_linhas.sum_renda_dompp.hist(bins=100,figsize=(20,8))"
   ]
  },
  {
   "cell_type": "code",
   "execution_count": 28,
   "metadata": {},
   "outputs": [
    {
     "data": {
      "text/plain": [
       "distancia                                                         22142.8\n",
       "id                                                                  63952\n",
       "linhas                  LINESTRING (-46.805552 -23.585501, -46.805492 ...\n",
       "route_id                                                          809T-10\n",
       "service_id                                                            USD\n",
       "trip_id                                                         809T-10-0\n",
       "trip_headsign                                                        Lapa\n",
       "direction_id                                                        False\n",
       "geometry                POLYGON ((-46.80890429093454 -23.5823928645196...\n",
       "sum_renda_dompp                                               7.55859e+06\n",
       "prop_sum_renda_dompp                                          6.17658e+06\n",
       "renda_dompp_km                                                     341.36\n",
       "prop_renda_dompp_km                                                278.94\n",
       "Name: 1748, dtype: object"
      ]
     },
     "execution_count": 28,
     "metadata": {},
     "output_type": "execute_result"
    }
   ],
   "source": [
    "geo_linhas.loc[geo_linhas.sum_renda_dompp.idxmax()]"
   ]
  },
  {
   "cell_type": "code",
   "execution_count": 29,
   "metadata": {},
   "outputs": [
    {
     "data": {
      "text/plain": [
       "distancia                                                         13784.2\n",
       "id                                                                  68078\n",
       "linhas                  LINESTRING (-46.506405 -23.585261, -46.50635 -...\n",
       "route_id                                                          3029-10\n",
       "service_id                                                            USD\n",
       "trip_id                                                         3029-10-0\n",
       "trip_headsign                                               Metrô Tatuapé\n",
       "direction_id                                                        False\n",
       "geometry                POLYGON ((-46.58289782203369 -23.5425437486358...\n",
       "sum_renda_dompp                                                   8714.27\n",
       "prop_sum_renda_dompp                                              4984.99\n",
       "renda_dompp_km                                                       0.63\n",
       "prop_renda_dompp_km                                                  0.36\n",
       "Name: 494, dtype: object"
      ]
     },
     "execution_count": 29,
     "metadata": {},
     "output_type": "execute_result"
    }
   ],
   "source": [
    "geo_linhas.loc[geo_linhas.sum_renda_dompp.idxmin()]"
   ]
  },
  {
   "cell_type": "code",
   "execution_count": 30,
   "metadata": {},
   "outputs": [
    {
     "data": {
      "text/plain": [
       "distancia                                                         3648.16\n",
       "id                                                                  52774\n",
       "linhas                  LINESTRING (-46.38742199999999 -23.521169, -46...\n",
       "route_id                                                          2008-10\n",
       "service_id                                                            USD\n",
       "trip_id                                                         2008-10-0\n",
       "trip_headsign                                         Cptm Itaim Paulista\n",
       "direction_id                                                        False\n",
       "geometry                POLYGON ((-46.40524701411066 -23.4956124081898...\n",
       "sum_renda_dompp                                               6.87878e+06\n",
       "prop_sum_renda_dompp                                          5.35237e+06\n",
       "renda_dompp_km                                                    1885.55\n",
       "prop_renda_dompp_km                                               1467.14\n",
       "Name: 202, dtype: object"
      ]
     },
     "execution_count": 30,
     "metadata": {},
     "output_type": "execute_result"
    }
   ],
   "source": [
    "geo_linhas.loc[geo_linhas.renda_dompp_km.idxmax()]"
   ]
  },
  {
   "cell_type": "code",
   "execution_count": 31,
   "metadata": {},
   "outputs": [
    {
     "data": {
      "text/plain": [
       "distancia                                                         13784.2\n",
       "id                                                                  68078\n",
       "linhas                  LINESTRING (-46.506405 -23.585261, -46.50635 -...\n",
       "route_id                                                          3029-10\n",
       "service_id                                                            USD\n",
       "trip_id                                                         3029-10-0\n",
       "trip_headsign                                               Metrô Tatuapé\n",
       "direction_id                                                        False\n",
       "geometry                POLYGON ((-46.58289782203369 -23.5425437486358...\n",
       "sum_renda_dompp                                                   8714.27\n",
       "prop_sum_renda_dompp                                              4984.99\n",
       "renda_dompp_km                                                       0.63\n",
       "prop_renda_dompp_km                                                  0.36\n",
       "Name: 494, dtype: object"
      ]
     },
     "execution_count": 31,
     "metadata": {},
     "output_type": "execute_result"
    }
   ],
   "source": [
    "geo_linhas.loc[geo_linhas.renda_dompp_km.idxmin()]"
   ]
  },
  {
   "cell_type": "code",
   "execution_count": 32,
   "metadata": {},
   "outputs": [
    {
     "data": {
      "text/plain": [
       "<matplotlib.axes._subplots.AxesSubplot at 0x7efedfb4bef0>"
      ]
     },
     "execution_count": 32,
     "metadata": {},
     "output_type": "execute_result"
    },
    {
     "data": {
      "image/png": "[encoded data removed]",
      "text/plain": [
       "<matplotlib.figure.Figure at 0x7efedfa91f98>"
      ]
     },
     "metadata": {},
     "output_type": "display_data"
    }
   ],
   "source": [
    "geo_linhas[['sum_renda_dompp']].boxplot(figsize=(20,8), fontsize=20)"
   ]
  },
  {
   "cell_type": "code",
   "execution_count": 33,
   "metadata": {},
   "outputs": [
    {
     "data": {
      "text/plain": [
       "<matplotlib.axes._subplots.AxesSubplot at 0x7efedfb966d8>"
      ]
     },
     "execution_count": 33,
     "metadata": {},
     "output_type": "execute_result"
    },
    {
     "data": {
      "image/png": "[encoded data removed]",
      "text/plain": [
       "<matplotlib.figure.Figure at 0x7efee045ffd0>"
      ]
     },
     "metadata": {},
     "output_type": "display_data"
    }
   ],
   "source": [
    "geo_linhas[['renda_dompp_km']].boxplot(figsize=(20,8), fontsize=20)"
   ]
  },
  {
   "cell_type": "code",
   "execution_count": 34,
   "metadata": {},
   "outputs": [
    {
     "data": {
      "text/plain": [
       "distancia                                                          6232.7\n",
       "id                                                                  68207\n",
       "linhas                  LINESTRING (-46.60288 -23.60308, -46.602832 -2...\n",
       "route_id                                                          5031-10\n",
       "service_id                                                            USD\n",
       "trip_id                                                         5031-10-1\n",
       "trip_headsign                                                  Vl. Arapuá\n",
       "direction_id                                                         True\n",
       "geometry                POLYGON ((-46.60286763500403 -23.6083919891361...\n",
       "sum_renda_dompp                                               2.67937e+06\n",
       "prop_sum_renda_dompp                                           5.5461e+11\n",
       "renda_dompp_km                                                     429.89\n",
       "prop_renda_dompp_km                                           8.89838e+07\n",
       "Name: 906, dtype: object"
      ]
     },
     "execution_count": 34,
     "metadata": {},
     "output_type": "execute_result"
    }
   ],
   "source": [
    "df_linhas.loc[df_linhas.prop_renda_dompp_km.idxmax()]"
   ]
  },
  {
   "cell_type": "code",
   "execution_count": 36,
   "metadata": {},
   "outputs": [
    {
     "data": {
      "text/plain": [
       "distancia                                                         13784.2\n",
       "id                                                                  68078\n",
       "linhas                  LINESTRING (-46.506405 -23.585261, -46.50635 -...\n",
       "route_id                                                          3029-10\n",
       "service_id                                                            USD\n",
       "trip_id                                                         3029-10-0\n",
       "trip_headsign                                               Metrô Tatuapé\n",
       "direction_id                                                        False\n",
       "geometry                POLYGON ((-46.58289782203369 -23.5425437486358...\n",
       "sum_renda_dompp                                                   8714.27\n",
       "prop_sum_renda_dompp                                              48898.9\n",
       "renda_dompp_km                                                       0.63\n",
       "prop_renda_dompp_km                                                  3.55\n",
       "Name: 494, dtype: object"
      ]
     },
     "execution_count": 36,
     "metadata": {},
     "output_type": "execute_result"
    }
   ],
   "source": [
    "df_linhas.loc[df_linhas.prop_renda_dompp_km.idxmin()]"
   ]
  },
  {
   "cell_type": "code",
   "execution_count": 35,
   "metadata": {},
   "outputs": [
    {
     "data": {
      "text/plain": [
       "distancia                                                         7446.55\n",
       "id                                                                  64660\n",
       "linhas                  LINESTRING (-46.420708 -23.529161, -46.420731 ...\n",
       "route_id                                                          2703-21\n",
       "service_id                                                            U__\n",
       "trip_id                                                         2703-21-0\n",
       "trip_headsign                                              Metrô Itaquera\n",
       "direction_id                                                        False\n",
       "geometry                POLYGON ((-46.47403065234133 -23.5466609956735...\n",
       "sum_renda_dompp                                               2.34018e+06\n",
       "prop_sum_renda_dompp                                          5.54665e+11\n",
       "renda_dompp_km                                                     314.26\n",
       "prop_renda_dompp_km                                           7.44862e+07\n",
       "Name: 342, dtype: object"
      ]
     },
     "execution_count": 35,
     "metadata": {},
     "output_type": "execute_result"
    }
   ],
   "source": [
    "df_linhas.loc[df_linhas.prop_sum_renda_dompp.idxmax()].prop_renda_dompp_km"
   ]
  }
 ],
 "metadata": {
  "kernelspec": {
   "display_name": "Python 3",
   "language": "python",
   "name": "python3"
  },
  "language_info": {
   "codemirror_mode": {
    "name": "ipython",
    "version": 3
   },
   "file_extension": ".py",
   "mimetype": "text/x-python",
   "name": "python",
   "nbconvert_exporter": "python",
   "pygments_lexer": "ipython3",
   "version": "3.6.6"
  }
 },
 "nbformat": 4,
 "nbformat_minor": 2
}
